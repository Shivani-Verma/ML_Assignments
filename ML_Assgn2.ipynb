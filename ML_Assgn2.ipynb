{
 "cells": [
  {
   "cell_type": "code",
   "execution_count": 3,
   "metadata": {},
   "outputs": [],
   "source": [
    "#importing libraries\n",
    "import numpy as np \n",
    "import tensorflow as tf \n",
    "import matplotlib.pyplot as plt"
   ]
  },
  {
   "cell_type": "code",
   "execution_count": 5,
   "metadata": {},
   "outputs": [],
   "source": [
    "np.random.seed(101)\n",
    "tf.set_random_seed(101)\n",
    "# Genrating random linear data \n",
    "# There will be 50 data points ranging from 0 to 50 (evenly spaced)\n",
    "x = np.linspace(0, 50, 50) \n",
    "# Adding noise to the random linear data \n",
    "# The function generates random numbers from a uniform distribution (floating point numbers in [-4,4))\n",
    "x += np.random.uniform(-4, 4, 50)\n",
    "# 50 values of y generated from a random distribution with mean=0 and standard deviation=1\n",
    "y = np.random.normal(0,1,50)\n",
    "# Number of data points, n = 50\n",
    "n=len(x)"
   ]
  },
  {
   "cell_type": "code",
   "execution_count": 6,
   "metadata": {},
   "outputs": [
    {
     "data": {
      "image/png": "[encoded data removed]",
      "text/plain": [
       "<Figure size 432x288 with 1 Axes>"
      ]
     },
     "metadata": {
      "needs_background": "light"
     },
     "output_type": "display_data"
    }
   ],
   "source": [
    "# Plot of Training Data \n",
    "# A scatter plot showing observations\n",
    "plt.scatter(x, y) \n",
    "# Labeling the axes, plot is titled\n",
    "plt.xlabel('x') \n",
    "plt.ylabel('y') \n",
    "plt.title(\"Training Data\") \n",
    "# Display plot\n",
    "plt.show()"
   ]
  },
  {
   "cell_type": "code",
   "execution_count": 11,
   "metadata": {},
   "outputs": [
    {
     "name": "stdout",
     "output_type": "stream",
     "text": [
      "WARNING:tensorflow:From /home/user/.local/lib/python3.6/site-packages/tensorflow/python/ops/math_ops.py:3066: to_int32 (from tensorflow.python.ops.math_ops) is deprecated and will be removed in a future version.\n",
      "Instructions for updating:\n",
      "Use tf.cast instead.\n"
     ]
    }
   ],
   "source": [
    "X = tf.placeholder(\"float\") \n",
    "Y = tf.placeholder(\"float\") \n",
    "W = tf.Variable(np.random.randn(), name = \"W\") \n",
    "b = tf.Variable(np.random.randn(), name = \"b\")\n",
    "# Creating and initialising variables\n",
    "learning_rate=0.01\n",
    "training_epochs=1000\n",
    "# y_pred = X*W+b\n",
    "y_pred=tf.add(tf.multiply(X,W),b)\n",
    "# Calculating cost\n",
    "cost=tf.divide(tf.reduce_sum(tf.pow(tf.subtract(y_pred,Y),2)),tf.cast(tf.multiply(2,n),tf.float32))\n",
    "# Gradient Descent Optimizer \n",
    "optimizer = tf.train.GradientDescentOptimizer(learning_rate).minimize(cost) \n",
    "# Global Variables Initializer \n",
    "init = tf.global_variables_initializer() "
   ]
  },
  {
   "cell_type": "code",
   "execution_count": 12,
   "metadata": {},
   "outputs": [
    {
     "name": "stdout",
     "output_type": "stream",
     "text": [
      "Epoch 50 : cost = 0.6517808 W = 0.025622977 b = -0.6615282\n",
      "Epoch 100 : cost = 0.63227683 W = 0.023835193 b = -0.5741128\n",
      "Epoch 150 : cost = 0.6169958 W = 0.022238363 b = -0.49603403\n",
      "Epoch 200 : cost = 0.60505456 W = 0.020812133 b = -0.42629698\n",
      "Epoch 250 : cost = 0.59575045 W = 0.019538244 b = -0.3640089\n",
      "Epoch 300 : cost = 0.5885267 W = 0.018400438 b = -0.30837455\n",
      "Epoch 350 : cost = 0.5829413 W = 0.017384147 b = -0.25868207\n",
      "Epoch 400 : cost = 0.5786439 W = 0.016476426 b = -0.21429823\n",
      "Epoch 450 : cost = 0.57535726 W = 0.015665673 b = -0.17465559\n",
      "Epoch 500 : cost = 0.57286173 W = 0.0149415275 b = -0.13924758\n",
      "Epoch 550 : cost = 0.5709838 W = 0.014294725 b = -0.107621655\n",
      "Epoch 600 : cost = 0.5695866 W = 0.01371702 b = -0.07937415\n",
      "Epoch 650 : cost = 0.5685621 W = 0.013201026 b = -0.054143973\n",
      "Epoch 700 : cost = 0.56782526 W = 0.01274015 b = -0.031608973\n",
      "Epoch 750 : cost = 0.5673093 W = 0.012328504 b = -0.011481063\n",
      "Epoch 800 : cost = 0.5669619 W = 0.011960827 b = 0.006496774\n",
      "Epoch 850 : cost = 0.5667422 W = 0.011632428 b = 0.022554234\n",
      "Epoch 900 : cost = 0.566618 W = 0.0113391075 b = 0.036896408\n",
      "Epoch 950 : cost = 0.56656474 W = 0.011077121 b = 0.04970652\n",
      "Epoch 1000 : cost = 0.5665632 W = 0.010843119 b = 0.061148316\n"
     ]
    }
   ],
   "source": [
    "# Starting the Tensorflow Session \n",
    "with tf.Session() as sess: \n",
    "    sess.run(init) \n",
    "    # Iterating through all the epochs \n",
    "    for epoch in range(training_epochs): \n",
    "        # Feeding each data point into the optimizer using Feed Dictionary \n",
    "        for (_x, _y) in zip(x, y): \n",
    "            sess.run(optimizer, feed_dict = {X : _x, Y : _y}) \n",
    "        # Displaying the result after every 50 epochs \n",
    "        if (epoch + 1) % 50 == 0: \n",
    "            # Calculating the cost a every epoch \n",
    "            c = sess.run(cost, feed_dict = {X : x, Y : y}) \n",
    "            print(\"Epoch\", (epoch + 1), \": cost =\", c, \"W =\", sess.run(W), \"b =\", sess.run(b)) \n",
    "\n",
    "    # Storing necessary values to be used outside the Session \n",
    "    training_cost = sess.run(cost, feed_dict ={X: x, Y: y}) \n",
    "    weight = sess.run(W) \n",
    "    bias = sess.run(b) "
   ]
  },
  {
   "cell_type": "code",
   "execution_count": 13,
   "metadata": {},
   "outputs": [
    {
     "name": "stdout",
     "output_type": "stream",
     "text": [
      "Training cost = 0.5665632 Weight = 0.010843119 bias = 0.061148316 \n",
      "\n"
     ]
    }
   ],
   "source": [
    "# Calculating the predictions \n",
    "predictions = weight * x + bias \n",
    "print(\"Training cost =\", training_cost, \"Weight =\", weight, \"bias =\", bias, '\\n')"
   ]
  },
  {
   "cell_type": "code",
   "execution_count": 14,
   "metadata": {},
   "outputs": [
    {
     "data": {
      "image/png": "[encoded data removed]",
      "text/plain": [
       "<Figure size 432x288 with 1 Axes>"
      ]
     },
     "metadata": {
      "needs_background": "light"
     },
     "output_type": "display_data"
    }
   ],
   "source": [
    "# Plotting the Results \n",
    "plt.plot(x, y, 'ro', label ='Original data') \n",
    "plt.plot(x, predictions, label ='Fitted line') \n",
    "plt.title('Linear Regression Result') \n",
    "plt.legend() \n",
    "plt.show() "
   ]
  },
  {
   "cell_type": "code",
   "execution_count": null,
   "metadata": {},
   "outputs": [],
   "source": []
  }
 ],
 "metadata": {
  "kernelspec": {
   "display_name": "Python 3",
   "language": "python",
   "name": "python3"
  },
  "language_info": {
   "codemirror_mode": {
    "name": "ipython",
    "version": 3
   },
   "file_extension": ".py",
   "mimetype": "text/x-python",
   "name": "python",
   "nbconvert_exporter": "python",
   "pygments_lexer": "ipython3",
   "version": "3.6.7"
  }
 },
 "nbformat": 4,
 "nbformat_minor": 2
}
